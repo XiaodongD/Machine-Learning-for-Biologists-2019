{
 "cells": [
  {
   "cell_type": "code",
   "execution_count": null,
   "metadata": {},
   "outputs": [],
   "source": [
    "import scipy.io as scio\n",
    "import numpy as np\n",
    "from sklearn.svm import *\n",
    "from sklearn import decomposition\n",
    "%matplotlib inline\n",
    "\n",
    "#Load the data\n",
    "data = scio.loadmat(\"mnist_all.mat\")\n",
    "X_training = []\n",
    "y_training = []\n",
    "X_testing = []\n",
    "y_testing = []\n",
    "for i in range(10):\n",
    "    index_string = 'train'+str(i)\n",
    "    for j in range(len(data[index_string])):\n",
    "        X_training.append(data[index_string][j]/255.0)\n",
    "        y_training.append(i)\n",
    "    index_string = 'test'+str(i)\n",
    "    for j in range(len(data[index_string])):\n",
    "        X_testing.append(data[index_string][j]/255.0)\n",
    "        y_testing.append(i)\n",
    "\n",
    "#PCA\n",
    "pca_f = decomposition.PCA(10)\n",
    "pca_f.fit(X_training)\n",
    "X_training_pca = pca_f.transform(X_training)\n",
    "X_testing_pca = pca_f.transform(X_testing)\n",
    "\n",
    "#SVM\n",
    "model = SVC(gamma='scale')\n",
    "model.fit(X_training_pca,y_training)\n",
    "result = model.score(X_testing_pca, y_testing)\n",
    "print(\"Acuracy:\", result)"
   ]
  },
  {
   "cell_type": "code",
   "execution_count": null,
   "metadata": {},
   "outputs": [],
   "source": []
  }
 ],
 "metadata": {
  "kernelspec": {
   "display_name": "Python 3",
   "language": "python",
   "name": "python3"
  },
  "language_info": {
   "codemirror_mode": {
    "name": "ipython",
    "version": 3
   },
   "file_extension": ".py",
   "mimetype": "text/x-python",
   "name": "python",
   "nbconvert_exporter": "python",
   "pygments_lexer": "ipython3",
   "version": "3.7.3"
  }
 },
 "nbformat": 4,
 "nbformat_minor": 2
}
