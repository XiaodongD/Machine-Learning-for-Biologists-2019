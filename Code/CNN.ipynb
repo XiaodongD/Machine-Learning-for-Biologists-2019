{
 "cells": [
  {
   "cell_type": "code",
   "execution_count": null,
   "metadata": {
    "scrolled": true
   },
   "outputs": [],
   "source": [
    "import scipy.io as scio\n",
    "import matplotlib.pyplot as plt\n",
    "import numpy as np\n",
    "from sklearn.svm import *\n",
    "from sklearn import decomposition\n",
    "import keras\n",
    "from keras.utils import *\n",
    "from keras.models import Sequential\n",
    "from keras.layers import Dense, Activation, MaxPooling2D, Conv2D, Flatten\n",
    "%matplotlib inline\n",
    "\n",
    "#Load the data\n",
    "data = scio.loadmat(\"mnist_all.mat\")\n",
    "X_training_2d = []\n",
    "y_training = []\n",
    "X_testing_2d = []\n",
    "y_testing = []\n",
    "for i in range(10):\n",
    "    index_string = 'train'+str(i)\n",
    "    for j in range(len(data[index_string])):\n",
    "        X_training_2d.append((data[index_string][j].reshape((28,28,1)))/255.0)\n",
    "        y_training.append(i)\n",
    "    index_string = 'test'+str(i)\n",
    "    for j in range(len(data[index_string])):\n",
    "        X_testing_2d.append((data[index_string][j].reshape((28,28,1)))/255.0)\n",
    "        y_testing.append(i)\n",
    "        \n",
    "\n",
    "#CNN\n",
    "y_training_cate = keras.utils.to_categorical(y_training, 10)\n",
    "y_testing_cate = keras.utils.to_categorical(y_testing, 10)\n",
    "\n",
    "model = Sequential()\n",
    "model.add(Conv2D(32, kernel_size=(3, 3), activation='relu', input_shape=(28,28,1)))\n",
    "model.add(Conv2D(64, (3, 3), activation='relu'))\n",
    "model.add(MaxPooling2D(pool_size=(2, 2)))\n",
    "model.add(Flatten())\n",
    "model.add(Dense(128, activation='relu'))\n",
    "model.add(Dense(10, activation='softmax'))\n",
    "model.compile(loss=keras.losses.categorical_crossentropy, optimizer=keras.optimizers.Adadelta(), metrics=['accuracy'])\n",
    "\n",
    "batch_size = 128\n",
    "num_epoch = 200\n",
    "history = model.fit(np.asarray(X_training_2d), y_training_cate,\n",
    "          batch_size=batch_size,\n",
    "          epochs=num_epoch,\n",
    "          verbose=1)\n",
    "\n",
    "# Plot training accuracy values\n",
    "plt.plot(history.history['acc'])\n",
    "plt.title('Model accuracy')\n",
    "plt.ylabel('Accuracy')\n",
    "plt.xlabel('Epoch')\n",
    "plt.show()\n",
    "\n",
    "# Plot training loss values\n",
    "plt.plot(history.history['loss'])\n",
    "plt.title('Model loss')\n",
    "plt.ylabel('Loss')\n",
    "plt.xlabel('Epoch')\n",
    "plt.show()\n",
    "\n",
    "score = model.evaluate(np.asarray(X_testing_2d), y_testing_cate)\n",
    "print('Accuracy:', score[1])"
   ]
  },
  {
   "cell_type": "code",
   "execution_count": null,
   "metadata": {},
   "outputs": [],
   "source": []
  }
 ],
 "metadata": {
  "kernelspec": {
   "display_name": "Python 3",
   "language": "python",
   "name": "python3"
  },
  "language_info": {
   "codemirror_mode": {
    "name": "ipython",
    "version": 3
   },
   "file_extension": ".py",
   "mimetype": "text/x-python",
   "name": "python",
   "nbconvert_exporter": "python",
   "pygments_lexer": "ipython3",
   "version": "3.7.3"
  }
 },
 "nbformat": 4,
 "nbformat_minor": 2
}
